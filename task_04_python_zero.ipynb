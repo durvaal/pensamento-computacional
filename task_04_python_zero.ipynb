{
  "nbformat": 4,
  "nbformat_minor": 0,
  "metadata": {
    "colab": {
      "name": "task_04_python_zero",
      "version": "0.3.2",
      "provenance": [],
      "collapsed_sections": []
    },
    "language_info": {
      "codemirror_mode": {
        "name": "ipython",
        "version": 3
      },
      "file_extension": ".py",
      "mimetype": "text/x-python",
      "name": "python",
      "nbconvert_exporter": "python",
      "pygments_lexer": "ipython3",
      "version": "3.6.8"
    },
    "kernelspec": {
      "display_name": "Python 3",
      "language": "python",
      "name": "python3"
    }
  },
  "cells": [
    {
      "cell_type": "markdown",
      "metadata": {
        "id": "ysjV7-AP0w9k",
        "colab_type": "text"
      },
      "source": [
        "<small><small><i>\n",
        "Este notebook foi baseado nos notebooks disponíveis em [https://gitlab.erc.monash.edu.au/andrease/Python4Maths.git]\n",
        "</i></small></small>"
      ]
    },
    {
      "cell_type": "markdown",
      "metadata": {
        "id": "qBcZf1jd0w9m",
        "colab_type": "text"
      },
      "source": [
        "# Reaproveitando código\n",
        "\n",
        "Uma outra maneira de utilizar um código múltiplas vezes é através de **procedimentos**.\n",
        "\n",
        "Um procedimento é um conjunto de instruções agrupados em um bloco que recebem um nome e podem ser chamados quantas vezes for necessário.\n",
        "\n",
        "Nos roteiros anteriores, você já vem usando procedimentos como ```input()```, ```print()``` e ```randint()```.\n",
        "\n",
        "Você também pode criar seus próprios procedimentos usando o seguinte padrão:\n",
        "\n",
        "```python\n",
        "def nome():\n",
        "    instrucao\n",
        "    instrucao\n",
        "    ...\n",
        "```\n",
        "\n",
        "O padrão acima pode ser lido como ```definir``` um procedimento chamado ```nome```, que executará o seguinte bloco de instruções.\n",
        "\n",
        "As regras básicas para a **definição e uso de procedimentos** em Python são:\n",
        "\n",
        "* O trecho de código delimitado por um procedimento é chamado bloco e deve ser identado.\n",
        "* Um procedimento é chamado utilizando a notação ```nome()```."
      ]
    },
    {
      "cell_type": "code",
      "metadata": {
        "id": "6MBvhMil0w9n",
        "colab_type": "code",
        "outputId": "667f367a-277d-47db-e7ad-3e66f91671de",
        "colab": {
          "base_uri": "https://localhost:8080/",
          "height": 35
        }
      },
      "source": [
        "def bom_dia():\n",
        "    print(\"Bom dia!\")\n",
        "      \n",
        "bom_dia()"
      ],
      "execution_count": 0,
      "outputs": [
        {
          "output_type": "stream",
          "text": [
            "Bom dia!\n"
          ],
          "name": "stdout"
        }
      ]
    },
    {
      "cell_type": "markdown",
      "metadata": {
        "id": "5U_VIu9P0w9r",
        "colab_type": "text"
      },
      "source": [
        "### Exercícios de fixação"
      ]
    },
    {
      "cell_type": "markdown",
      "metadata": {
        "id": "4KeHc6ia0w9t",
        "colab_type": "text"
      },
      "source": [
        "1 - Crie um procedimento ```aleatorio()``` que imprima um inteiro aleatorio pertencente ao intervalo [1,60]."
      ]
    },
    {
      "cell_type": "code",
      "metadata": {
        "id": "NBoW7_700w9u",
        "colab_type": "code",
        "outputId": "ee0d746b-838f-4d7c-9a38-09d74c1fd197",
        "colab": {
          "base_uri": "https://localhost:8080/",
          "height": 35
        }
      },
      "source": [
        "from random import randint\n",
        "def aleatorio():\n",
        "  print(randint(1,60))\n",
        "aleatorio()"
      ],
      "execution_count": 0,
      "outputs": [
        {
          "output_type": "stream",
          "text": [
            "43\n"
          ],
          "name": "stdout"
        }
      ]
    },
    {
      "cell_type": "markdown",
      "metadata": {
        "id": "so_Ofclr0w9x",
        "colab_type": "text"
      },
      "source": [
        "2 - Crie um procedimento mega_sena() que use o procedimento aleatorio() e imprima um jogo da mega sena."
      ]
    },
    {
      "cell_type": "code",
      "metadata": {
        "id": "bVzGuk110w9y",
        "colab_type": "code",
        "outputId": "06b8c412-0bbc-4112-be6b-aefe554cbddc",
        "colab": {
          "base_uri": "https://localhost:8080/",
          "height": 34
        }
      },
      "source": [
        "from random import randint\n",
        "def mega_sena():\n",
        "  print(randint(1, 60),randint(1, 60),randint(1, 60),randint(1, 60),randint(1, 60),randint(1, 60))\n",
        "mega_sena()"
      ],
      "execution_count": 0,
      "outputs": [
        {
          "output_type": "stream",
          "text": [
            "47 37 37 13 53 11\n"
          ],
          "name": "stdout"
        }
      ]
    },
    {
      "cell_type": "markdown",
      "metadata": {
        "id": "qxFt3OEv0w91",
        "colab_type": "text"
      },
      "source": [
        "## Customizando a execução de um procedimento"
      ]
    },
    {
      "cell_type": "markdown",
      "metadata": {
        "id": "QNF1J9aE0w92",
        "colab_type": "text"
      },
      "source": [
        "Você pode configurar o comportamento de um procedimento utilizando **parâmetros de chamada** (também conhecidos como *argumentos*).\n",
        "\n",
        "Não existe um limite para a quantidade de argumentos de um procedimento, mas você deve nomeá-los ao definir seu procedimento para poder utilizá-los como variáveis:\n",
        "\n",
        "```python\n",
        "def nome(arg1, arg2, ..., argN):\n",
        "    instrucao\n",
        "    instrucao\n",
        "    ...\n",
        "```\n"
      ]
    },
    {
      "cell_type": "code",
      "metadata": {
        "scrolled": true,
        "id": "iElfRujE0w93",
        "colab_type": "code",
        "outputId": "e43342f4-7158-4bca-ade6-a58d788c25ae",
        "colab": {
          "base_uri": "https://localhost:8080/",
          "height": 68
        }
      },
      "source": [
        "def info_pessoa(nome, idade, email):\n",
        "    print(\"Nome:\", nome)\n",
        "    print(\"Idade:\", idade)\n",
        "    print(\"Email:\", email)\n",
        "\n",
        "info_pessoa(\"Leonardo Bezerra\", \"31\", \"leobezerra@imd.ufrn.br\")"
      ],
      "execution_count": 0,
      "outputs": [
        {
          "output_type": "stream",
          "text": [
            "Nome: Leonardo Bezerra\n",
            "Idade: 31\n",
            "Email: leobezerra@imd.ufrn.br\n"
          ],
          "name": "stdout"
        }
      ]
    },
    {
      "cell_type": "markdown",
      "metadata": {
        "id": "byAkdyN_0w97",
        "colab_type": "text"
      },
      "source": [
        "### Exercícios de fixação"
      ]
    },
    {
      "cell_type": "markdown",
      "metadata": {
        "id": "atsxjcJ90w98",
        "colab_type": "text"
      },
      "source": [
        "1 - Crie um procedimento ```media()``` que receba notas de 3 unidades de uma disciplina e calcule sua média."
      ]
    },
    {
      "cell_type": "code",
      "metadata": {
        "id": "vGCiJIn20w98",
        "colab_type": "code",
        "outputId": "2ed553b6-84d9-4da9-c1c0-3a3b098a90e8",
        "colab": {
          "base_uri": "https://localhost:8080/",
          "height": 34
        }
      },
      "source": [
        "def media(nota1, nota2, nota3):\n",
        "  print((nota1+nota2+nota3)/3)\n",
        "media(10, 2, 8)"
      ],
      "execution_count": 0,
      "outputs": [
        {
          "output_type": "stream",
          "text": [
            "6.666666666666667\n"
          ],
          "name": "stdout"
        }
      ]
    },
    {
      "cell_type": "markdown",
      "metadata": {
        "id": "CjMd5RJj0w-A",
        "colab_type": "text"
      },
      "source": [
        "2 - Crie um procedimento ```fatorial()``` que receba um inteiro N e imprima seu fatorial."
      ]
    },
    {
      "cell_type": "code",
      "metadata": {
        "id": "_YuIakS50w-A",
        "colab_type": "code",
        "outputId": "f52eba70-99f4-4aa4-8cec-9ce9f7a04b45",
        "colab": {
          "base_uri": "https://localhost:8080/",
          "height": 34
        }
      },
      "source": [
        "def fatorial(numero):\n",
        "  fatorial = 1\n",
        "  for i in range(numero, 0, -1):\n",
        "    fatorial *= i\n",
        "  print(fatorial)\n",
        "  \n",
        "fatorial(3)"
      ],
      "execution_count": 0,
      "outputs": [
        {
          "output_type": "stream",
          "text": [
            "6\n"
          ],
          "name": "stdout"
        }
      ]
    },
    {
      "cell_type": "markdown",
      "metadata": {
        "id": "LkfTEkv70w-E",
        "colab_type": "text"
      },
      "source": [
        "## Interrompendo a execução de um procedimento"
      ]
    },
    {
      "cell_type": "markdown",
      "metadata": {
        "id": "m9DHbkQU0w-G",
        "colab_type": "text"
      },
      "source": [
        "Assim como é possível interromper uma repetição usando o comando ```break```, é possível interromper a execução de um procedimento usando o comando ```return```."
      ]
    },
    {
      "cell_type": "code",
      "metadata": {
        "scrolled": true,
        "id": "sOhUlZC30w-G",
        "colab_type": "code",
        "outputId": "750fe997-8993-4c1a-f8be-7c8ff1a846bc",
        "colab": {
          "base_uri": "https://localhost:8080/",
          "height": 51
        }
      },
      "source": [
        "def raiz_quadrada(n):\n",
        "    if n < 0:\n",
        "        return\n",
        "    print(\"Raiz:\", n ** 0.5)\n",
        "\n",
        "raiz_quadrada(4)\n",
        "raiz_quadrada(16)\n",
        "raiz_quadrada(-1)"
      ],
      "execution_count": 0,
      "outputs": [
        {
          "output_type": "stream",
          "text": [
            "Raiz: 2.0\n",
            "Raiz: 4.0\n"
          ],
          "name": "stdout"
        }
      ]
    },
    {
      "cell_type": "markdown",
      "metadata": {
        "id": "IiS89rNe0w-J",
        "colab_type": "text"
      },
      "source": [
        "### Exercícios de fixação"
      ]
    },
    {
      "cell_type": "markdown",
      "metadata": {
        "id": "OHgUaB0O0w-L",
        "colab_type": "text"
      },
      "source": [
        "1 - Crie um procedimento ```divisao_inteira()``` que imprima o resultado e o resto da divisão inteira de dois parâmetros inteiros. Se não houver resto, seu procedimento deverá imprimir apenas o resultado da divisão."
      ]
    },
    {
      "cell_type": "code",
      "metadata": {
        "id": "3mqPSpH80w-M",
        "colab_type": "code",
        "outputId": "919e5192-61aa-4e00-f4be-dc5ac066a1a3",
        "colab": {
          "base_uri": "https://localhost:8080/",
          "height": 34
        }
      },
      "source": [
        "def divisao_inteira(numero1, numero2):\n",
        "  if(numero1%numero2 == 0):\n",
        "    print(numero1/numero2, numero1%numero2)\n",
        "  else:\n",
        "    print(numero1/numero2)\n",
        "divisao_inteira(10, 2)"
      ],
      "execution_count": 0,
      "outputs": [
        {
          "output_type": "stream",
          "text": [
            "5.0 0\n"
          ],
          "name": "stdout"
        }
      ]
    },
    {
      "cell_type": "markdown",
      "metadata": {
        "id": "RVxLqzPn0w-P",
        "colab_type": "text"
      },
      "source": [
        "## Produzindo um valor a partir de um procedimento"
      ]
    },
    {
      "cell_type": "markdown",
      "metadata": {
        "id": "JlC-jYJQ0w-R",
        "colab_type": "text"
      },
      "source": [
        "Outro uso do comando ```return``` é permitir que um procedimento produza um resultado (retorne um valor).\n",
        "\n",
        "Tanto é possível retornar valores diretamente, como usando as varíaveis associadas a esses valores."
      ]
    },
    {
      "cell_type": "code",
      "metadata": {
        "scrolled": true,
        "id": "lpau12t30w-R",
        "colab_type": "code",
        "outputId": "7d8860f7-eb6b-4e58-a422-e097651bb957",
        "colab": {
          "base_uri": "https://localhost:8080/",
          "height": 68
        }
      },
      "source": [
        "def soma_n_primeiros(n):\n",
        "    soma = 0\n",
        "    for i in range(n):\n",
        "        soma += i\n",
        "    return soma\n",
        "\n",
        "print(soma_n_primeiros(3))\n",
        "print(soma_n_primeiros(5))\n",
        "print(soma_n_primeiros(10))"
      ],
      "execution_count": 0,
      "outputs": [
        {
          "output_type": "stream",
          "text": [
            "3\n",
            "10\n",
            "45\n"
          ],
          "name": "stdout"
        }
      ]
    },
    {
      "cell_type": "markdown",
      "metadata": {
        "id": "IwDtYANg0w-V",
        "colab_type": "text"
      },
      "source": [
        "### Exercícios de fixação"
      ]
    },
    {
      "cell_type": "markdown",
      "metadata": {
        "id": "-OHp2nnG0w-V",
        "colab_type": "text"
      },
      "source": [
        "1 - Crie um procedimento ```valor_absoluto()``` que retorne o valor absoluto de um parâmetro."
      ]
    },
    {
      "cell_type": "code",
      "metadata": {
        "id": "HiR7HOm-0w-X",
        "colab_type": "code",
        "outputId": "9c8d555c-afe7-4595-a37a-14193889bbbd",
        "colab": {
          "base_uri": "https://localhost:8080/",
          "height": 34
        }
      },
      "source": [
        "def valor_absoluto(numero):\n",
        "  return abs(numero)\n",
        "\n",
        "print(valor_absoluto(-10))"
      ],
      "execution_count": 0,
      "outputs": [
        {
          "output_type": "stream",
          "text": [
            "10\n"
          ],
          "name": "stdout"
        }
      ]
    },
    {
      "cell_type": "markdown",
      "metadata": {
        "id": "9RLWPWwn0w-Z",
        "colab_type": "text"
      },
      "source": [
        "## Usando procedimentos definidos por outros"
      ]
    },
    {
      "cell_type": "markdown",
      "metadata": {
        "id": "b9tWTQqB0w-b",
        "colab_type": "text"
      },
      "source": [
        "Um dos principais usos de procedimentos é a construção de **bibliotecas**, que são códigos criados por outras pessoas que você pode utilizar dentro do seu código.\n",
        "\n",
        "Nesta disciplina, você poderá **importar** procedimentos de bibliotecas de duas formas:\n",
        "- Importando procedimento(s) específico(s) de uma biblioteca\n",
        "```python\n",
        "from biblioteca import procedimento1, procedimento2, ..., procedimentoN\n",
        "```\n",
        "- Importando todos os procedimentos de uma biblioteca\n",
        "```python\n",
        "from biblioteca import *\n",
        "```"
      ]
    },
    {
      "cell_type": "markdown",
      "metadata": {
        "id": "k_f75wnY0w-b",
        "colab_type": "text"
      },
      "source": [
        "### Exercícios de fixação"
      ]
    },
    {
      "cell_type": "markdown",
      "metadata": {
        "id": "k0YqRlrc0w-c",
        "colab_type": "text"
      },
      "source": [
        "1 - Em roteiros anteriores, você usou a função ```randint()```. Qual biblioteca fornece esse procedimento?"
      ]
    },
    {
      "cell_type": "markdown",
      "metadata": {
        "id": "qpeSIubB0w-d",
        "colab_type": "text"
      },
      "source": [
        "Resposta: "
      ]
    },
    {
      "cell_type": "markdown",
      "metadata": {
        "id": "KFmT9_Im0w-e",
        "colab_type": "text"
      },
      "source": [
        "2 - Use os procedimentos ```sin()``` e ```floor()``` da biblioteca ```math``` para calcular o seno de um número e transformá-lo em um inteiro arredondando-o para baixo."
      ]
    },
    {
      "cell_type": "code",
      "metadata": {
        "id": "MDakJ-qM0w-f",
        "colab_type": "code",
        "outputId": "2f7cbf6c-94d4-4add-f3c5-8d300a86da66",
        "colab": {
          "base_uri": "https://localhost:8080/",
          "height": 34
        }
      },
      "source": [
        "from math import sin, floor\n",
        "\n",
        "def sinCalc(numero):\n",
        "  return sin(numero)\n",
        "def floorCalc(numero):\n",
        "  return floor(numero)\n",
        "\n",
        "print(sinCalc(10), floorCalc(10))"
      ],
      "execution_count": 0,
      "outputs": [
        {
          "output_type": "stream",
          "text": [
            "-0.5440211108893698 10\n"
          ],
          "name": "stdout"
        }
      ]
    },
    {
      "cell_type": "markdown",
      "metadata": {
        "collapsed": true,
        "id": "bS5dYrlO0w-k",
        "colab_type": "text"
      },
      "source": [
        "## Exercícios do URI"
      ]
    },
    {
      "cell_type": "markdown",
      "metadata": {
        "collapsed": true,
        "id": "APIvygbx0w-k",
        "colab_type": "text"
      },
      "source": [
        "[2630](https://www.urionlinejudge.com.br/judge/pt/problems/view/2630) - Sistemas de computação gráfica representam imagens como um conjunto de pontos (pixels) formados por três componentes: vermelho, verde e azul.\n",
        "\n",
        "Alguns algoritmos de processamento de imagem exigem um pré-processamento no qual é necessário transformar uma imagem colorida em uma imagem em tons de cinza. Esta conversão pode ser realizada de diversas maneiras, dependendo do resultado que se pretende obter.\n",
        "\n",
        "Para preservar a percepção das cores básicas pelo olho humano, uma conversão apropriada seria tomar 30% da componente vermelha (R), 59% da componente verde (G) e 11% da componente azul (B). Em termos matemáticos,\n",
        "\n",
        "P = 0,30R + 0,59G + 0,11B\n",
        "\n",
        "Outras abordagens possíveis seriam determinar o valor de P através da média aritmética das três componentes ou atribuir a P os valores da maior ou da menor entre as três componentes.\n",
        "\n",
        "Escreva um código Python que, dadas as componentes RGB de um pixel da imagem colorida, determine o valor do pixel P da imagem em tons de cinza correspondente, determinada a conversão a ser utilizada. Despreze a parte decimal do resultado, caso exista.\n",
        "\n",
        "A entrada consiste em T (1 ≤ T ≤ 100) casos de teste, onde o valor de T é dado na primeira linha da entrada. Cada caso de teste é composto por quatro linhas: a primeira linha contém a conversão a ser utilizada: eye para a primeira abordagem descrita, mean para a média aritmética, max para o valor da maior componente e min para o valor da menor componente. As demais linhas contêm os valores R, G, B (0 ≤ R, G, B ≤ 255) do pixel da imagem colorida.\n",
        "\n",
        "Para cada caso de testes dever ser impresso P, onde P é o nível de cinza do pixel da imagem em tons de cinza após a conversão do pixel da imagem colorida."
      ]
    },
    {
      "cell_type": "markdown",
      "metadata": {
        "id": "F0RilSll0w-l",
        "colab_type": "text"
      },
      "source": [
        "|.| Entrada | Saída |\n",
        "|-|:----:|:-:|\n",
        "| *Exemplo 1* | 3<br/>min<br/>35<br/>70<br/>35<br/>mean<br/>10<br/>74<br/>181<br/>eye<br/>23<br/>78<br/>197 | 35<br/>88<br/>74 | \n",
        "| *Exemplo 2* | 4<br/>min<br/>41<br/>27<br/>32<br/>min<br/>10<br/>21<br/>6<br/>max<br/>15<br/>41<br/>72<br/>max<br/>40<br/>21<br/>63 | 27<br/>6<br/>72<br/>41 | \n",
        "| *Exemplo 3* | 2<br/>eye<br/>7<br/>62<br/>200<br/>mean<br/>15<br/>49<br/>227 | 60<br/>97 | "
      ]
    },
    {
      "cell_type": "code",
      "metadata": {
        "id": "loh3ptXV0w-n",
        "colab_type": "code",
        "colab": {}
      },
      "source": [
        ""
      ],
      "execution_count": 0,
      "outputs": []
    },
    {
      "cell_type": "markdown",
      "metadata": {
        "id": "r8AYipZ_0w-s",
        "colab_type": "text"
      },
      "source": [
        "[2165](https://www.urionlinejudge.com.br/judge/pt/problems/view/2165) - O microblog Twitter é conhecido por limitar as postagens em 140 caracteres. Mais recentemente, alguns usuários como a @HBO_Brasil tiveram seus limites de caracteres dobrados para 280.\n",
        "\n",
        "Escreva um código que confira se um texto vai caber em um tuíte. Cada caso de teste é iniciado com um inteiro informando a qual limite o usuário tem direito. Caso o tamanho do caracter exceda esse limite, seu código deverá imprimir a mensagem NO. Caso contrário, seu código deverá imprimir a mensagem OK.\n"
      ]
    },
    {
      "cell_type": "markdown",
      "metadata": {
        "id": "nag9VuMj0w-t",
        "colab_type": "text"
      },
      "source": [
        "|.| Entrada | Saída |\n",
        "|-|----|:-:|\n",
        "| *Exemplo 1* | 280<br/>Agora dá: Daenerys Targaryen, Filha da Tormenta, Não Queimada, Mãe de Dragões, Rainha de Mereen,<br/>Rainha dos Ândalos e dos Primeiros Homens, Quebradora de Correntes, Senhora dos Sete Reinos,<br/>Khaleesi dos Dothraki, a Primeira de Seu Nome. Descendente da Casa Targaryen. | OK | \n",
        "| *Exemplo 2* | 140<br/>Jon Snow. Ele é Rei do Norte. | OK | \n",
        "| *Exemplo 3* | 140<br/>Fish fingers last night! Looking forward to meeting with<br/>Prime Minister @Netanyahu shortly. (Was thinking of making a joke on<br/>his name – Netanya-WHO!? but @IvankaTrump said best not.)<br/>Peace in the Middle East would be a truly great legacy for ALL people! | NO | \n",
        "\n",
        "\n"
      ]
    },
    {
      "cell_type": "code",
      "metadata": {
        "id": "3Q6GHo4w0w-v",
        "colab_type": "code",
        "outputId": "16990f00-45b7-4435-a3d5-60e4041d5bf5",
        "colab": {
          "base_uri": "https://localhost:8080/",
          "height": 91
        }
      },
      "source": [
        "def validarTwitter():\n",
        "  limite = int(input(\"Informe o limite: \"))\n",
        "  twitter = input(\"Informe o twitter: \")\n",
        "\n",
        "  if(len(twitter) > limite):\n",
        "    print(\"NO\")\n",
        "  else:\n",
        "    print(\"OK\")\n",
        "    \n",
        "validarTwitter()"
      ],
      "execution_count": 0,
      "outputs": [
        {
          "output_type": "stream",
          "text": [
            "Informe o limite: 140\n",
            "Informe o twitter: Fish fingers last night! Looking forward to meeting with Prime Minister @Netanyahu shortly. (Was thinking of making a joke on his name – Netanya-WHO!? but @IvankaTrump said best not.) Peace in the Middle East would be a truly great legacy for ALL people\n",
            "NO\n"
          ],
          "name": "stdout"
        }
      ]
    },
    {
      "cell_type": "markdown",
      "metadata": {
        "id": "xxc4x2Kv0w-y",
        "colab_type": "text"
      },
      "source": [
        "3 - Em exercícios de notebooks anteriores, você implementou códigos para calcular a contribuição mensal de um trabalhador para o INSS e seu IRPF (imposto de renda pessoa física).\n",
        "\n",
        "Reuse seus códigos de forma modularizada para criar um código que leia o salário bruto de um trabalhador e imprima se salário líquido (descontados INSS e IRPF)."
      ]
    },
    {
      "cell_type": "markdown",
      "metadata": {
        "id": "TP0bH84J0w-y",
        "colab_type": "text"
      },
      "source": [
        "|.| Entrada | Saída |\n",
        "|-|:-:|-|\n",
        "| *Exemplo 1* | 1200.00 | 1104.00 | \n",
        "| *Exemplo 2* | 5485.00 | 4474.05 |\n",
        "| *Exemplo 3* | 10431.00 | 8059.90 |"
      ]
    },
    {
      "cell_type": "code",
      "metadata": {
        "id": "HTHd6aRa0w-z",
        "colab_type": "code",
        "outputId": "807b587d-dbfa-4bdb-82e4-d7d9200301d7",
        "colab": {
          "base_uri": "https://localhost:8080/",
          "height": 53
        }
      },
      "source": [
        "def descontarINSS(salario_bruto):\n",
        "  salario_liquido = 0.0\n",
        "  desconto_inss = 0.0\n",
        "  \n",
        "  if salario_bruto <= 1693.72:\n",
        "    desconto_inss = (salario_bruto * 0.08)\n",
        "    salario_liquido = salario_bruto - desconto_inss\n",
        "  if salario_bruto >= 1693.73 and salario_bruto <= 2822.90:\n",
        "    desconto_inss = (salario_bruto * 0.09)\n",
        "    salario_liquido = salario_bruto - desconto_inss\n",
        "  if salario_bruto >= 2822.91 and salario_bruto <= 5645.80:\n",
        "    desconto_inss = (salario_bruto * 0.11)\n",
        "    salario_liquido = salario_bruto - desconto_inss\n",
        "  if salario_bruto > 5645.80:\n",
        "    desconto_inss = (5645.80 * 0.11)\n",
        "    salario_liquido = salario_bruto - desconto_inss\n",
        "  \n",
        "  return round(salario_liquido, 2)\n",
        "\n",
        "def descontarIRPF(salario_liquido):\n",
        "  desconto_irpf = 0.0\n",
        "  \n",
        "  if (salario_liquido >= 1903.98 and salario_liquido <= 2826.65):\n",
        "    desconto_irpf = (salario_liquido * 0.075) - 142.80\n",
        "    salario_liquido = salario_liquido - desconto_irpf\n",
        "  if (salario_liquido >= 2826.66 and salario_liquido <= 3751.05):\n",
        "    desconto_irpf = (salario_liquido * 0.15) - 354.80\n",
        "    salario_liquido = salario_liquido - desconto_irpf\n",
        "  if (salario_liquido >= 3751.06 and salario_liquido <= 4664.68):\n",
        "    desconto_irpf = (salario_liquido * 0.225) - 636.13\n",
        "    salario_liquido = salario_liquido - desconto_irpf\n",
        "  if salario_liquido > 4664.68:\n",
        "    desconto_irpf = (salario_liquido * 0.275) - 869.36\n",
        "    salario_liquido = salario_liquido - desconto_irpf\n",
        "    \n",
        "  return round(salario_liquido, 2)\n",
        "\n",
        "def calcularSalarioFinal():\n",
        "  salario_bruto = float(input(\"Informe seu salário bruto: \"))\n",
        "  \n",
        "  salario_liquido = descontarINSS(salario_bruto)\n",
        "  salario_liquido = descontarIRPF(salario_liquido)\n",
        "    \n",
        "  return salario_liquido\n",
        "\n",
        "calcularSalarioFinal()"
      ],
      "execution_count": 13,
      "outputs": [
        {
          "output_type": "stream",
          "text": [
            "Informe seu salário bruto: 1200.00\n"
          ],
          "name": "stdout"
        },
        {
          "output_type": "execute_result",
          "data": {
            "text/plain": [
              "1104.0"
            ]
          },
          "metadata": {
            "tags": []
          },
          "execution_count": 13
        }
      ]
    },
    {
      "cell_type": "code",
      "metadata": {
        "id": "46N-IrigCnHP",
        "colab_type": "code",
        "colab": {}
      },
      "source": [
        ""
      ],
      "execution_count": 0,
      "outputs": []
    }
  ]
}